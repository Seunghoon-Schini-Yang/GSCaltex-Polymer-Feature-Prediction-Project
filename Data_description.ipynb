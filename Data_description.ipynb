{
 "cells": [
  {
   "cell_type": "code",
   "execution_count": 1,
   "metadata": {},
   "outputs": [],
   "source": [
    "import pandas as pd\n",
    "import matplotlib.pyplot as plt\n",
    "import seaborn as sns\n",
    "import numpy as np\n",
    "from scipy.stats import norm\n",
    "from sklearn.preprocessing import StandardScaler\n",
    "from sklearn.preprocessing import MinMaxScaler\n",
    "from scipy import stats\n",
    "import warnings\n",
    "warnings.filterwarnings('ignore')\n",
    "%matplotlib inline"
   ]
  },
  {
   "cell_type": "code",
   "execution_count": 2,
   "metadata": {},
   "outputs": [],
   "source": [
    "data = pd.read_excel('F:\\\\Downloads\\\\Big Leader\\\\GS Project Big leader\\\\GS Data Edited.xlsx')"
   ]
  },
  {
   "cell_type": "code",
   "execution_count": 5,
   "metadata": {},
   "outputs": [],
   "source": [
    "# X : 재료 (feature) , y : 물성치 (target)\n",
    "\n",
    "X = data.iloc[:,:90]\n",
    "y = data.iloc[:,90:97]"
   ]
  },
  {
   "cell_type": "code",
   "execution_count": 8,
   "metadata": {},
   "outputs": [
    {
     "data": {
      "text/plain": [
       "Index(['P001', 'P002', 'P003', 'P004', 'P005', 'P006', 'P007', 'P008', 'P009',\n",
       "       'P010', 'P011', 'P012', 'P013', 'P014', 'P015', 'P016', 'P017', 'P018',\n",
       "       'P019', 'P020', 'P021', 'P022', 'P023', 'P024', 'P025', 'P026', 'P027',\n",
       "       'P028', 'P029', 'P030', 'P031', 'P032', 'P033', 'P034', 'P035', 'P036',\n",
       "       'P037', 'P038', 'P039', 'P040', 'P041', 'F001', 'F002', 'F003', 'F004',\n",
       "       'F005', 'F006', 'F007', 'F008', 'F009', 'F010', 'F011', 'F012', 'F013',\n",
       "       'F014', 'F015', 'F016', 'F017', 'F018', 'R001', 'R002', 'R003', 'R004',\n",
       "       'R005', 'R006', 'R007', 'R008', 'R009', 'R010', 'R011', 'R012', 'R013',\n",
       "       'R014', 'R015', 'R016', 'R017', 'R018', 'R019', 'R020', 'R021', 'R022',\n",
       "       'OTH1', 'OTH2', 'OTH3', 'OTH4', 'OTH5', 'OTH6', 'OTH7', 'OTH8', 'OTH9'],\n",
       "      dtype='object')"
      ]
     },
     "execution_count": 8,
     "metadata": {},
     "output_type": "execute_result"
    }
   ],
   "source": [
    "X.columns"
   ]
  },
  {
   "cell_type": "code",
   "execution_count": 6,
   "metadata": {},
   "outputs": [
    {
     "name": "stdout",
     "output_type": "stream",
     "text": [
      "<class 'pandas.core.frame.DataFrame'>\n",
      "RangeIndex: 811 entries, 0 to 810\n",
      "Data columns (total 7 columns):\n",
      " #   Column     Non-Null Count  Dtype  \n",
      "---  ------     --------------  -----  \n",
      " 0   비중         799 non-null    float64\n",
      " 1   굴곡탄성률      807 non-null    float64\n",
      " 2   굴곡강도       804 non-null    float64\n",
      " 3   HDT        807 non-null    float64\n",
      " 4   IZOD 충격강도  655 non-null    float64\n",
      " 5   MI         480 non-null    float64\n",
      " 6   인장강도       802 non-null    float64\n",
      "dtypes: float64(7)\n",
      "memory usage: 44.5 KB\n"
     ]
    }
   ],
   "source": [
    "y.info()"
   ]
  },
  {
   "cell_type": "code",
   "execution_count": 11,
   "metadata": {},
   "outputs": [
    {
     "data": {
      "text/html": [
       "<div>\n",
       "<style scoped>\n",
       "    .dataframe tbody tr th:only-of-type {\n",
       "        vertical-align: middle;\n",
       "    }\n",
       "\n",
       "    .dataframe tbody tr th {\n",
       "        vertical-align: top;\n",
       "    }\n",
       "\n",
       "    .dataframe thead th {\n",
       "        text-align: right;\n",
       "    }\n",
       "</style>\n",
       "<table border=\"1\" class=\"dataframe\">\n",
       "  <thead>\n",
       "    <tr style=\"text-align: right;\">\n",
       "      <th></th>\n",
       "      <th>비중</th>\n",
       "      <th>굴곡탄성률</th>\n",
       "      <th>굴곡강도</th>\n",
       "      <th>HDT</th>\n",
       "      <th>IZOD 충격강도</th>\n",
       "      <th>MI</th>\n",
       "      <th>인장강도</th>\n",
       "    </tr>\n",
       "  </thead>\n",
       "  <tbody>\n",
       "    <tr>\n",
       "      <th>비중</th>\n",
       "      <td>1.000000</td>\n",
       "      <td>0.869586</td>\n",
       "      <td>0.728241</td>\n",
       "      <td>0.694633</td>\n",
       "      <td>-0.189979</td>\n",
       "      <td>-0.119424</td>\n",
       "      <td>0.689369</td>\n",
       "    </tr>\n",
       "    <tr>\n",
       "      <th>굴곡탄성률</th>\n",
       "      <td>0.869586</td>\n",
       "      <td>1.000000</td>\n",
       "      <td>0.924009</td>\n",
       "      <td>0.736481</td>\n",
       "      <td>-0.170063</td>\n",
       "      <td>-0.210158</td>\n",
       "      <td>0.895452</td>\n",
       "    </tr>\n",
       "    <tr>\n",
       "      <th>굴곡강도</th>\n",
       "      <td>0.728241</td>\n",
       "      <td>0.924009</td>\n",
       "      <td>1.000000</td>\n",
       "      <td>0.722539</td>\n",
       "      <td>-0.170515</td>\n",
       "      <td>-0.215067</td>\n",
       "      <td>0.969047</td>\n",
       "    </tr>\n",
       "    <tr>\n",
       "      <th>HDT</th>\n",
       "      <td>0.694633</td>\n",
       "      <td>0.736481</td>\n",
       "      <td>0.722539</td>\n",
       "      <td>1.000000</td>\n",
       "      <td>-0.302358</td>\n",
       "      <td>0.001357</td>\n",
       "      <td>0.677490</td>\n",
       "    </tr>\n",
       "    <tr>\n",
       "      <th>IZOD 충격강도</th>\n",
       "      <td>-0.189979</td>\n",
       "      <td>-0.170063</td>\n",
       "      <td>-0.170515</td>\n",
       "      <td>-0.302358</td>\n",
       "      <td>1.000000</td>\n",
       "      <td>-0.259878</td>\n",
       "      <td>-0.116820</td>\n",
       "    </tr>\n",
       "    <tr>\n",
       "      <th>MI</th>\n",
       "      <td>-0.119424</td>\n",
       "      <td>-0.210158</td>\n",
       "      <td>-0.215067</td>\n",
       "      <td>0.001357</td>\n",
       "      <td>-0.259878</td>\n",
       "      <td>1.000000</td>\n",
       "      <td>-0.269468</td>\n",
       "    </tr>\n",
       "    <tr>\n",
       "      <th>인장강도</th>\n",
       "      <td>0.689369</td>\n",
       "      <td>0.895452</td>\n",
       "      <td>0.969047</td>\n",
       "      <td>0.677490</td>\n",
       "      <td>-0.116820</td>\n",
       "      <td>-0.269468</td>\n",
       "      <td>1.000000</td>\n",
       "    </tr>\n",
       "  </tbody>\n",
       "</table>\n",
       "</div>"
      ],
      "text/plain": [
       "                 비중     굴곡탄성률      굴곡강도       HDT  IZOD 충격강도        MI  \\\n",
       "비중         1.000000  0.869586  0.728241  0.694633  -0.189979 -0.119424   \n",
       "굴곡탄성률      0.869586  1.000000  0.924009  0.736481  -0.170063 -0.210158   \n",
       "굴곡강도       0.728241  0.924009  1.000000  0.722539  -0.170515 -0.215067   \n",
       "HDT        0.694633  0.736481  0.722539  1.000000  -0.302358  0.001357   \n",
       "IZOD 충격강도 -0.189979 -0.170063 -0.170515 -0.302358   1.000000 -0.259878   \n",
       "MI        -0.119424 -0.210158 -0.215067  0.001357  -0.259878  1.000000   \n",
       "인장강도       0.689369  0.895452  0.969047  0.677490  -0.116820 -0.269468   \n",
       "\n",
       "               인장강도  \n",
       "비중         0.689369  \n",
       "굴곡탄성률      0.895452  \n",
       "굴곡강도       0.969047  \n",
       "HDT        0.677490  \n",
       "IZOD 충격강도 -0.116820  \n",
       "MI        -0.269468  \n",
       "인장강도       1.000000  "
      ]
     },
     "execution_count": 11,
     "metadata": {},
     "output_type": "execute_result"
    }
   ],
   "source": [
    "y.corr()"
   ]
  },
  {
   "cell_type": "code",
   "execution_count": 13,
   "metadata": {},
   "outputs": [
    {
     "data": {
      "text/plain": [
       "{'P001': 4,\n",
       " 'P002': 20,\n",
       " 'P003': 31,\n",
       " 'P004': 9,\n",
       " 'P005': 1,\n",
       " 'P006': 59,\n",
       " 'P007': 1,\n",
       " 'P008': 44,\n",
       " 'P009': 9,\n",
       " 'P010': 2,\n",
       " 'P011': 13,\n",
       " 'P012': 4,\n",
       " 'P013': 3,\n",
       " 'P014': 41,\n",
       " 'P015': 1,\n",
       " 'P016': 20,\n",
       " 'P017': 31,\n",
       " 'P018': 23,\n",
       " 'P019': 158,\n",
       " 'P020': 3,\n",
       " 'P021': 9,\n",
       " 'P022': 92,\n",
       " 'P023': 0,\n",
       " 'P024': 24,\n",
       " 'P025': 9,\n",
       " 'P026': 54,\n",
       " 'P027': 19,\n",
       " 'P028': 49,\n",
       " 'P029': 134,\n",
       " 'P030': 230,\n",
       " 'P031': 3,\n",
       " 'P032': 14,\n",
       " 'P033': 3,\n",
       " 'P034': 168,\n",
       " 'P035': 13,\n",
       " 'P036': 9,\n",
       " 'P037': 2,\n",
       " 'P038': 4,\n",
       " 'P039': 27,\n",
       " 'P040': 1,\n",
       " 'P041': 1,\n",
       " 'F001': 6,\n",
       " 'F002': 2,\n",
       " 'F003': 11,\n",
       " 'F004': 81,\n",
       " 'F005': 37,\n",
       " 'F006': 1,\n",
       " 'F007': 59,\n",
       " 'F008': 40,\n",
       " 'F009': 106,\n",
       " 'F010': 23,\n",
       " 'F011': 179,\n",
       " 'F012': 47,\n",
       " 'F013': 24,\n",
       " 'F014': 9,\n",
       " 'F015': 2,\n",
       " 'F016': 126,\n",
       " 'F017': 81,\n",
       " 'F018': 20,\n",
       " 'R001': 1,\n",
       " 'R002': 7,\n",
       " 'R003': 10,\n",
       " 'R004': 1,\n",
       " 'R005': 7,\n",
       " 'R006': 2,\n",
       " 'R007': 8,\n",
       " 'R008': 2,\n",
       " 'R009': 2,\n",
       " 'R010': 121,\n",
       " 'R011': 30,\n",
       " 'R012': 6,\n",
       " 'R013': 197,\n",
       " 'R014': 29,\n",
       " 'R015': 14,\n",
       " 'R016': 47,\n",
       " 'R017': 306,\n",
       " 'R018': 44,\n",
       " 'R019': 19,\n",
       " 'R020': 9,\n",
       " 'R021': 35,\n",
       " 'R022': 8,\n",
       " 'OTH1': 560,\n",
       " 'OTH2': 9,\n",
       " 'OTH3': 116,\n",
       " 'OTH4': 1,\n",
       " 'OTH5': 95,\n",
       " 'OTH6': 75,\n",
       " 'OTH7': 160,\n",
       " 'OTH8': 92,\n",
       " 'OTH9': 4}"
      ]
     },
     "execution_count": 13,
     "metadata": {},
     "output_type": "execute_result"
    }
   ],
   "source": [
    "# 각 재료 사용횟수\n",
    "\n",
    "no_col = {}\n",
    "for i in X.columns:\n",
    "    bit_mask = X[i] != 0\n",
    "    rows_nonzero = X.loc[bit_mask]\n",
    "    n = len(rows_nonzero.index)\n",
    "    no_col[i]=(n)\n",
    "no_col"
   ]
  },
  {
   "cell_type": "code",
   "execution_count": 24,
   "metadata": {},
   "outputs": [],
   "source": [
    "# 재료 'P002' 를 사용한 실험 데이터만 추출\n",
    "\n",
    "bit_mask = X['P002'] != 0\n",
    "rows_nonzero = X.loc[bit_mask]\n",
    "\n",
    "# 추출된 데이터에서, 한번도 사용되지 않은 재료 columns 제거\n",
    "\n",
    "cols_drop = rows_nonzero.T[(rows_nonzero != 0).any()].T"
   ]
  },
  {
   "cell_type": "code",
   "execution_count": 29,
   "metadata": {},
   "outputs": [
    {
     "data": {
      "text/plain": [
       "157    0.588\n",
       "158    0.589\n",
       "159    0.614\n",
       "Name: 비중, dtype: float64"
      ]
     },
     "execution_count": 29,
     "metadata": {},
     "output_type": "execute_result"
    }
   ],
   "source": [
    "# 비중 값 outlier 실험 데이터 추출\n",
    "\n",
    "data.loc[data['비중'] < 0.8]['비중']"
   ]
  },
  {
   "cell_type": "code",
   "execution_count": null,
   "metadata": {},
   "outputs": [],
   "source": []
  }
 ],
 "metadata": {
  "kernelspec": {
   "display_name": "Python 3",
   "language": "python",
   "name": "python3"
  },
  "language_info": {
   "codemirror_mode": {
    "name": "ipython",
    "version": 3
   },
   "file_extension": ".py",
   "mimetype": "text/x-python",
   "name": "python",
   "nbconvert_exporter": "python",
   "pygments_lexer": "ipython3",
   "version": "3.6.10"
  }
 },
 "nbformat": 4,
 "nbformat_minor": 4
}
